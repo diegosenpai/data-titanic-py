{
 "cells": [
  {
   "cell_type": "code",
   "execution_count": 1,
   "metadata": {},
   "outputs": [
    {
     "name": "stdout",
     "output_type": "stream",
     "text": [
      "0    25\n",
      "1    30\n",
      "2    35\n",
      "Name: Edad, dtype: int64\n"
     ]
    }
   ],
   "source": [
    "import pandas as pd\n",
    "\n",
    "datos = {'Nombre': ['Alice', 'Bob', 'Charlie'],\n",
    "         'Edad': [25, 30, 35],\n",
    "         'Ciudad': ['Nueva York', 'Los Ángeles', 'Chicago']}\n",
    "df = pd.DataFrame(datos)\n",
    "print(df['Edad'])"
   ]
  },
  {
   "cell_type": "code",
   "execution_count": 34,
   "metadata": {},
   "outputs": [
    {
     "name": "stdout",
     "output_type": "stream",
     "text": [
      "        sex      age  Sobrevivientes Por Genero y Edad\n",
      "0    female   0.1667                                 1\n",
      "1    female   0.7500                                 2\n",
      "2    female   0.9167                                 1\n",
      "3    female   1.0000                                 4\n",
      "4    female   2.0000                                 2\n",
      "..      ...      ...                               ...\n",
      "115    male  54.0000                                 1\n",
      "116    male  56.0000                                 1\n",
      "117    male  60.0000                                 1\n",
      "118    male  62.0000                                 1\n",
      "119    male  80.0000                                 1\n",
      "\n",
      "[120 rows x 3 columns]\n",
      "sospechoso\n",
      "      sex  Sobrevivientes Por Genero y Edad\n",
      "0  female                                18\n",
      "1    male                                 9\n"
     ]
    }
   ],
   "source": [
    "import pandas as pd\n",
    "\n",
    "datos = pd.read_csv('titanic_custom.csv')\n",
    "\n",
    "\n",
    "sobrevivientes = datos[datos['survived'] == 1]\n",
    "\n",
    "\n",
    "sobrevivientesPorGenero = sobrevivientes.groupby(['sex']).size().reset_index(name = 'Sobrevivientes por genero')\n",
    "\n",
    "sobrevivientesPorClase = sobrevivientes.groupby(['pclass']).size().reset_index(name = 'Sobreviviente por Categoria Ticket')\n",
    "\n",
    "sobrevivientesPorBote = sobrevivientes.groupby(['boat']).size().reset_index(name = 'Sobreviviente por Bote')\n",
    "\n",
    "sobrevivientesPorGeneroYEdad = sobrevivientes.groupby(['sex','age']).size().reset_index(name = 'Sobrevivientes Por Genero y Edad')\n",
    "\n",
    "print(sobrevivientesPorGenero)\n",
    "\n",
    "print(sobrevivientesPorClase)\n",
    "\n",
    "print(sobrevivientesPorBote)\n",
    "\n",
    "print(sobrevivientesPorGeneroYEdad)\n",
    "print(\"sospechoso\")\n",
    "\n",
    "print(sobrevivientesPorGeneroYEdad.groupby('sex')['Sobrevivientes Por Genero y Edad'].max().reset_index()) "
   ]
  }
 ],
 "metadata": {
  "kernelspec": {
   "display_name": "Python 3",
   "language": "python",
   "name": "python3"
  },
  "language_info": {
   "codemirror_mode": {
    "name": "ipython",
    "version": 3
   },
   "file_extension": ".py",
   "mimetype": "text/x-python",
   "name": "python",
   "nbconvert_exporter": "python",
   "pygments_lexer": "ipython3",
   "version": "3.12.0"
  }
 },
 "nbformat": 4,
 "nbformat_minor": 2
}
